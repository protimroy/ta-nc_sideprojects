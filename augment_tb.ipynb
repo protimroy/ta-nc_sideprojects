{
 "cells": [
  {
   "cell_type": "code",
   "execution_count": 4,
   "metadata": {},
   "outputs": [],
   "source": [
    "import os;\n",
    "import sys;"
   ]
  },
  {
   "cell_type": "code",
   "execution_count": 8,
   "metadata": {},
   "outputs": [],
   "source": [
    "# augment the \"_tb.v\" files with \n",
    "\"\"\"\n",
    "initial\n",
    " begin\n",
    "    $dumpfile(\"y.vcd\");\n",
    "    $dumpvars(0,x);\n",
    " end\n",
    "\"\"\"\n",
    "# where x is the name of the module in the file\n",
    "# and y is the filename without the \"_tb.v\" suffix\n",
    "\n",
    "def augment_tb( path ):\n",
    "    for files in os.listdir( path ):\n",
    "        if not files.endswith( \"_tb.v\" ):\n",
    "            continue;\n",
    "        \n",
    "        file_name = files[:-5];\n",
    "        vcd_file = file_name + \".vcd\";\n",
    "        with open( path + \"/\" + files, 'r', encoding = \"ISO-8859-1\") as f:\n",
    "            lines = f.readlines();\n",
    "            # get the module name from the lines \n",
    "    \n",
    "        #get module name\n",
    "        for line in lines:\n",
    "            if \"module\" in line:\n",
    "                module_name = line.split()[1];\n",
    "                module_name = module_name[:-1];\n",
    "                break;\n",
    "        \n",
    "        # augment the file\n",
    "        with open( path + \"/\" + files, 'w', encoding = \"ISO-8859-1\") as f:\n",
    "            #f.write( \"initial\\n begin\\n    $dumpfile(\\\"\" + vcd_file + \"\\\");\\n    $dumpvars(0,\" + module_name + \");\\n end\\n\" );\n",
    "            \n",
    "\n",
    "            for i in range( len( lines ) ):\n",
    "                if \"initial\" in lines[i-1] and \"begin\" in lines[i]:\n",
    "                    # add a new line to the end of the line\n",
    "                    lines[i] = lines[i] + \"\\n\"\n",
    "                    f.write( lines[i] );\n",
    "\n",
    "                #if \"initial\" in lines[i-2] and \"begin\" in lines[i-1]:\n",
    "                    #f.write( \"    $dumpfile(\\\"\" + vcd_file + \"\\\");\\n    $dumpvars(0,\" + module_name + \");\\n\" );\n",
    "                    #print( \"augmented \" + files );\n",
    "                    #break;"
   ]
  },
  {
   "cell_type": "code",
   "execution_count": 9,
   "metadata": {},
   "outputs": [
    {
     "name": "stdout",
     "output_type": "stream",
     "text": [
      "augmented 1_tb.v\n"
     ]
    }
   ],
   "source": [
    "augment_tb( \"train\" );"
   ]
  },
  {
   "cell_type": "code",
   "execution_count": null,
   "metadata": {},
   "outputs": [],
   "source": []
  },
  {
   "cell_type": "code",
   "execution_count": null,
   "metadata": {},
   "outputs": [],
   "source": []
  }
 ],
 "metadata": {
  "kernelspec": {
   "display_name": "venv",
   "language": "python",
   "name": "python3"
  },
  "language_info": {
   "codemirror_mode": {
    "name": "ipython",
    "version": 3
   },
   "file_extension": ".py",
   "mimetype": "text/x-python",
   "name": "python",
   "nbconvert_exporter": "python",
   "pygments_lexer": "ipython3",
   "version": "3.11.10"
  }
 },
 "nbformat": 4,
 "nbformat_minor": 2
}
