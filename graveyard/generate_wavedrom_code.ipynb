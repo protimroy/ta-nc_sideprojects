{
 "cells": [
  {
   "cell_type": "markdown",
   "metadata": {},
   "source": [
    "###### Wavedrom Code Generator"
   ]
  },
  {
   "cell_type": "code",
   "execution_count": 1061,
   "metadata": {},
   "outputs": [
    {
     "data": {
      "text/plain": [
       "'\\nArgs:\\nReturns:\\nAttributes:          \\nRaises:\\n'"
      ]
     },
     "execution_count": 1061,
     "metadata": {},
     "output_type": "execute_result"
    }
   ],
   "source": [
    "\"\"\"\n",
    "Args:\n",
    "Returns:\n",
    "Attributes:          \n",
    "Raises:\n",
    "\"\"\""
   ]
  },
  {
   "cell_type": "code",
   "execution_count": 1062,
   "metadata": {},
   "outputs": [],
   "source": [
    "import json;\n",
    "import cv2;\n",
    "import numpy as np;\n",
    "from IPython.display import display;\n",
    "from PIL import Image;\n",
    "\n",
    "import matplotlib.pyplot as plt;\n",
    "\n",
    "import pytesseract;\n",
    "\n",
    "import skimage;"
   ]
  },
  {
   "cell_type": "code",
   "execution_count": 1063,
   "metadata": {},
   "outputs": [],
   "source": [
    "simple_wavedrom_image = \"min_sample.png\";"
   ]
  },
  {
   "cell_type": "code",
   "execution_count": 1064,
   "metadata": {},
   "outputs": [],
   "source": [
    "class WavedromCodeGenerator:\n",
    "    \"\"\"\n",
    "    This class generates json code for wavedrom from a given image of wavedrom image.\n",
    "\n",
    "    Args:\n",
    "\n",
    "    Returns:\n",
    "\n",
    "    Attributes:\n",
    "        \n",
    "    Raises:\n",
    "\n",
    "    \"\"\"\n",
    "    def __init__( self ):\n",
    "        \"\"\"\n",
    "        Args:\n",
    "\n",
    "        Returns:\n",
    "\n",
    "        Attributes:\n",
    "            \n",
    "        Raises:\n",
    "\n",
    "        \"\"\"\n",
    "        self.raw_image = simple_wavedrom_image;\n",
    "        self.names = self._extract_names();\n",
    "        self.num_signals = len( self.names );\n",
    "        self.image_matrix = self._preprocess_image();\n",
    "        self.cropped_signals = self._crop_image_matrix( self.image_matrix );\n",
    "\n",
    "    \n",
    "    def _display_image( self, window_name = \"Image\" ):\n",
    "        \"\"\"\n",
    "        Args:\n",
    "\n",
    "        Returns:\n",
    "\n",
    "        Attributes:\n",
    "            \n",
    "        Raises:\n",
    "\n",
    "        \"\"\"\n",
    "        display( Image.open( self.raw_image ) );\n",
    "\n",
    "    def _preprocess_image( self ):\n",
    "        \"\"\"\n",
    "        Args:\n",
    "\n",
    "        Returns:\n",
    "\n",
    "        Attributes:\n",
    "            \n",
    "        Raises:\n",
    "\n",
    "        \"\"\"\n",
    "        image = cv2.imread( self.raw_image, cv2.IMREAD_GRAYSCALE );\n",
    "        _, image = cv2.threshold( image, 127, 255, cv2.THRESH_BINARY_INV );\n",
    "        return image;\n",
    "\n",
    "    def _plot_image( self, image_matrix ):\n",
    "        \"\"\"\n",
    "        Args:\n",
    "\n",
    "        Returns:\n",
    "\n",
    "        Attributes:\n",
    "            \n",
    "        Raises:\n",
    "\n",
    "        \"\"\"\n",
    "        if type( image_matrix ) == dict:\n",
    "            for key in image_matrix.keys():\n",
    "                plt.figure( figsize = ( 10, 10 ) );\n",
    "                plt.title( key );\n",
    "                plt.imshow( image_matrix[key], cmap = \"gray\" );\n",
    "                plt.show();\n",
    "        else:\n",
    "            for i in range( self.num_signals ):\n",
    "                plt.figure( figsize = ( 10, 10 ) );\n",
    "\n",
    "                plt.title( self.names[i] );\n",
    "                plt.imshow( image_matrix, cmap = \"gray\" );\n",
    "                plt.show();\n",
    "\n",
    "        #plt.imshow( image_matrix, cmap = \"gray\" );\n",
    "        #plt.show();\n",
    "\n",
    "    def _extract_names( self ):\n",
    "        \"\"\"\n",
    "        Args:\n",
    "\n",
    "        Returns:\n",
    "\n",
    "        Attributes:\n",
    "            \n",
    "        Raises:\n",
    "\n",
    "        \"\"\"\n",
    "        # extract the names of th signals. Names will be in english alphabets.\n",
    "        data = pytesseract.image_to_string( self.raw_image, lang='eng', config='--psm 6' );\n",
    "\n",
    "        data_list = list( data );\n",
    "\n",
    "        # join the letters to form the names to a list\n",
    "        names = [];\n",
    "        name = \"\";\n",
    "        for i in range( len( data_list ) ):\n",
    "            if data_list[i].isalpha():\n",
    "                name += data_list[i];\n",
    "            else:\n",
    "                if name:\n",
    "                    names.append( name );\n",
    "                    name = \"\";\n",
    "\n",
    "        # set the number of signals\n",
    "        return names;\n",
    "\n",
    "    def _crop_image_matrix( self, image_matrix ):\n",
    "        \"\"\"\n",
    "        Args:\n",
    "\n",
    "        Returns:\n",
    "\n",
    "        Attributes:\n",
    "            \n",
    "        Raises:\n",
    "\n",
    "        \"\"\"\n",
    "        cropped_signals = {};\n",
    "        start = 0;\n",
    "        # crop the image to get the signals\n",
    "        for i in range( self.num_signals ):\n",
    "            div = int( 100/( self.num_signals + 1 ) * (i+1) );\n",
    "            cropped_image = image_matrix[ start:div, 51: ];\n",
    "            cropped_signals[ self.names[i] ] = cropped_image;\n",
    "            start = div;\n",
    "        return cropped_signals;\n",
    "\n",
    "    def _extract_signal_data( self ):\n",
    "        \"\"\"\n",
    "        Args:\n",
    "\n",
    "        Returns:\n",
    "\n",
    "        Attributes:\n",
    "            \n",
    "        Raises:\n",
    "\n",
    "        \"\"\"\n",
    "        # line detectin to detect horizontal lines\n",
    "        # hough transform to detect the lines\n",
    "        # each period is 25 pixels so each high or low is 25 pixels\n",
    "\n",
    "        for name in self.names:\n",
    "            edges = cv2.Canny( self.cropped_signals[name], 150, 200 );\n",
    "            cdst = cv2.cvtColor(edges, cv2.COLOR_GRAY2BGR)\n",
    "            lines = cv2.HoughLines( edges, 1, np.pi / 180, 150, None, 0, 0 );\n",
    "\n",
    "            print( lines.shape );\n",
    "            print( lines[0][0][1] );\n",
    "\n",
    "            # draw the lines\n",
    "            for line in lines:\n",
    "                rho, theta = line[0];\n",
    "                a = np.cos( theta );\n",
    "                b = np.sin( theta );\n",
    "                x0 = a * rho;\n",
    "                y0 = b * rho;\n",
    "                x1 = int( x0 + 1000 * ( -b ) );\n",
    "                y1 = int( y0 + 1000 * ( a ) );\n",
    "                x2 = int( x0 - 1000 * ( -b ) );\n",
    "                y2 = int( y0 - 1000 * ( a ) );\n",
    "\n",
    "                cv2.line( cdst, ( x1, y1 ), ( x2, y2 ), ( 0, 0, 255 ), 1 );\n",
    "            \n",
    "        self._plot_image( cdst );"
   ]
  },
  {
   "cell_type": "code",
   "execution_count": 1065,
   "metadata": {},
   "outputs": [
    {
     "data": {
      "image/png": "[encoded data removed]",
      "text/plain": [
       "<PIL.PngImagePlugin.PngImageFile image mode=RGBA size=120x30>"
      ]
     },
     "metadata": {},
     "output_type": "display_data"
    }
   ],
   "source": [
    "obj = WavedromCodeGenerator();\n",
    "image = obj._display_image( simple_wavedrom_image );"
   ]
  },
  {
   "cell_type": "code",
   "execution_count": 1066,
   "metadata": {},
   "outputs": [
    {
     "name": "stdout",
     "output_type": "stream",
     "text": [
      "['pclk']\n"
     ]
    }
   ],
   "source": [
    "print( obj.names );"
   ]
  },
  {
   "cell_type": "code",
   "execution_count": 1067,
   "metadata": {},
   "outputs": [
    {
     "data": {
      "image/png": "[encoded data removed]",
      "text/plain": [
       "<Figure size 1000x1000 with 1 Axes>"
      ]
     },
     "metadata": {},
     "output_type": "display_data"
    }
   ],
   "source": [
    "plot_image = obj._plot_image( obj.image_matrix );"
   ]
  },
  {
   "cell_type": "code",
   "execution_count": 1068,
   "metadata": {},
   "outputs": [
    {
     "data": {
      "image/png": "[encoded data removed]",
      "text/plain": [
       "<Figure size 1000x1000 with 1 Axes>"
      ]
     },
     "metadata": {},
     "output_type": "display_data"
    }
   ],
   "source": [
    "plot_image = obj._plot_image( obj.cropped_signals );"
   ]
  },
  {
   "cell_type": "code",
   "execution_count": 1081,
   "metadata": {},
   "outputs": [
    {
     "name": "stdout",
     "output_type": "stream",
     "text": [
      "Half-life: [9, 29]\n",
      "Period: 40\n"
     ]
    }
   ],
   "source": [
    "#print( obj.cropped_signals )\n",
    "for name in obj.names:\n",
    "    signal = obj.cropped_signals[name];\n",
    "    #obj._plot_image( signal );\n",
    "\n",
    "#print( signal.shape );\n",
    "signal_copy = signal.copy();\n",
    "cdst = cv2.cvtColor( signal_copy, cv2.COLOR_GRAY2BGR )\n",
    "\n",
    "half_life = [];\n",
    "counter = 0;\n",
    "\n",
    "for i in range( cdst.shape[0] ):\n",
    "    for j in range( cdst.shape[1] ):\n",
    "        # if pixel is white\n",
    "        if signal[i][j] == 255 and signal[i][j-1] == 0 and signal[i][j+1] == 0:\n",
    "\n",
    "            # determine if rising or falling edge by checking previous and next pixel\n",
    "            if signal[i-1][j] == 255 and signal[i+1][j] == 255:\n",
    "                # falling edge\n",
    "                if counter < 2:\n",
    "                    half_life.append( j );\n",
    "                    counter += 1;\n",
    "\n",
    "#obj._plot_image( cdst );\n",
    "\n",
    "# half period is difference between two elements in half_period\n",
    "print( \"Half-life:\", half_life );\n",
    "hp = half_life[1] - half_life[0];\n",
    "period = hp * 2;\n",
    "print( \"Period:\", period );"
   ]
  },
  {
   "cell_type": "code",
   "execution_count": 1088,
   "metadata": {},
   "outputs": [
    {
     "data": {
      "image/png": "[encoded data removed]",
      "text/plain": [
       "<Figure size 1000x1000 with 1 Axes>"
      ]
     },
     "metadata": {},
     "output_type": "display_data"
    }
   ],
   "source": [
    "for name in obj.names:\n",
    "    signal = obj.cropped_signals[name];\n",
    "\n",
    "signal_copy = signal.copy();\n",
    "cdst = cv2.cvtColor( signal_copy, cv2.COLOR_GRAY2BGR )\n",
    "\n",
    "for i in range( cdst.shape[0] ):\n",
    "    for j in range( cdst.shape[1] ):\n",
    "        # get all the corner pixels that are white\n",
    "        if signal[i][j] == 255 and signal[i-1][j] == 0 and signal[i][j-1] == 0:\n",
    "            #cdst[i][j] = [ 0, 255, 0 ];\n",
    "            # check if high signal or low signal by check the pixel in the previous column and the next column\n",
    "            if signal[i][j-1] == 0 and signal[i][j+1] == 255:\n",
    "                print( \"High signal\" );\n",
    "\n",
    "\n",
    "\n",
    "        #if signal[i][j] == 255 and signal[i-1][j] == 0 and signal[i][j+1] == 0:\n",
    "            #cdst[i][j] = [ 0, 255, 0 ];\n",
    "\n",
    "        #if signal[i][j] == 255 and signal[i+1][j] == 0 and signal[i][j-1] == 0:\n",
    "            #cdst[i][j] = [ 0, 255, 0 ];\n",
    "\n",
    "        #if signal[i][j] == 255 and signal[i+1][j] == 0 and signal[i][j+1] == 0:\n",
    "            #cdst[i][j] = [ 0, 255, 0 ];\n",
    "\n",
    "obj._plot_image( cdst );"
   ]
  },
  {
   "cell_type": "code",
   "execution_count": 1070,
   "metadata": {},
   "outputs": [],
   "source": [
    "#obj._extract_signal_data();"
   ]
  },
  {
   "cell_type": "code",
   "execution_count": 1071,
   "metadata": {},
   "outputs": [
    {
     "ename": "IndentationError",
     "evalue": "unexpected indent (1789184515.py, line 25)",
     "output_type": "error",
     "traceback": [
      "\u001b[0;36m  Cell \u001b[0;32mIn[1071], line 25\u001b[0;36m\u001b[0m\n\u001b[0;31m    \"\"\"\u001b[0m\n\u001b[0m    ^\u001b[0m\n\u001b[0;31mIndentationError\u001b[0m\u001b[0;31m:\u001b[0m unexpected indent\n"
     ]
    }
   ],
   "source": [
    "#for name in obj.names:\n",
    "    #edges = cv2.Canny( obj.cropped_signals[name], 150, 200 );\n",
    "    #cdst = cv2.cvtColor( edges, cv2.COLOR_GRAY2BGR )\n",
    "    #lines = cv2.HoughLines( edges, 1, np.pi / 180, 150, None, 0, 0 );\n",
    "\n",
    "    #print( edges[20] )\n",
    "\n",
    "    #print( lines.shape );\n",
    "    # keep the max and min in lines\n",
    "    #print( lines.max( axis=0 ) );\n",
    "    #print( lines.min( axis=0 ) );\n",
    "\n",
    "    #high = lines.max( axis=0 );\n",
    "    #low = lines.min( axis=0 );\n",
    "\n",
    "    # check when the background is black \n",
    "    #print( edges.shape );\n",
    "\n",
    "    # keep the high and low from the lines and remove the others\n",
    "    #lines = np.array( [ high, low ] );\n",
    "\n",
    "    #print( lines )\n",
    "\n",
    "    # draw the lines\n",
    "    \"\"\"\n",
    "    for line in lines:\n",
    "        rho, theta = line[0];\n",
    "        a = np.cos( theta );\n",
    "        b = np.sin( theta );\n",
    "        x0 = a * rho;\n",
    "        y0 = b * rho;\n",
    "        x1 = int( x0 + 1000 * ( -b ) );\n",
    "        y1 = int( y0 + 1000 * ( a ) );\n",
    "        x2 = int( x0 - 1000 * ( -b ) );\n",
    "        y2 = int( y0 - 1000 * ( a ) );\n",
    "\n",
    "        cv2.line( cdst, ( x1, y1 ), ( x2, y2 ), ( 0, 0, 255 ), 1 );\n",
    "    \"\"\"\n",
    "\n",
    "#obj._plot_image( edges );\n",
    "#print( edges.shape )\n",
    "# label the pixel in edges\n",
    "#for i in range( len( edges ) ):\n",
    "    #for j in range( len( edges[i] ) ):\n",
    "        \n",
    "        # find the first pixel that is 255 and the last pixel that is 255\n",
    "        #if edges[i][j] == 255:\n",
    "            #min_pixel = j;\n",
    "            #break;\n",
    "            \n",
    "#obj._plot_image( cdst );"
   ]
  },
  {
   "cell_type": "code",
   "execution_count": null,
   "metadata": {},
   "outputs": [],
   "source": []
  }
 ],
 "metadata": {
  "kernelspec": {
   "display_name": "venv",
   "language": "python",
   "name": "python3"
  },
  "language_info": {
   "codemirror_mode": {
    "name": "ipython",
    "version": 3
   },
   "file_extension": ".py",
   "mimetype": "text/x-python",
   "name": "python",
   "nbconvert_exporter": "python",
   "pygments_lexer": "ipython3",
   "version": "3.11.10"
  }
 },
 "nbformat": 4,
 "nbformat_minor": 2
}
